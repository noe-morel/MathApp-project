{
 "cells": [
  {
   "cell_type": "markdown",
   "metadata": {},
   "source": [
    "# DATACHALLENGE"
   ]
  },
  {
   "cell_type": "markdown",
   "metadata": {},
   "source": [
    "Pour ce datachallenge, nous aurons besoin des modules Python ci-dessous, il vous faut donc évidemment exécuter cette première cellule."
   ]
  },
  {
   "cell_type": "code",
   "execution_count": 24,
   "metadata": {
    "tags": []
   },
   "outputs": [],
   "source": [
    "%matplotlib inline\n",
    "import pandas as pd\n",
    "import numpy as np\n",
    "import sklearn"
   ]
  },
  {
   "cell_type": "code",
   "execution_count": 25,
   "metadata": {
    "tags": []
   },
   "outputs": [
    {
     "name": "stdout",
     "output_type": "stream",
     "text": [
      "WARNING:tensorflow:From C:\\Users\\dfrau\\anaconda3\\Lib\\site-packages\\keras\\src\\losses.py:2976: The name tf.losses.sparse_softmax_cross_entropy is deprecated. Please use tf.compat.v1.losses.sparse_softmax_cross_entropy instead.\n",
      "\n"
     ]
    },
    {
     "name": "stderr",
     "output_type": "stream",
     "text": [
      "INFO: Using numpy backend\n"
     ]
    }
   ],
   "source": [
    "import tensorflow as tf\n",
    "\n",
    "from tensorflow import keras\n",
    "from tensorflow.keras import layers\n",
    "\n",
    "import geomstats as gs"
   ]
  },
  {
   "cell_type": "markdown",
   "metadata": {},
   "source": [
    "Les différentes méthodes dont nous aurons besoins"
   ]
  },
  {
   "cell_type": "markdown",
   "metadata": {
    "tags": []
   },
   "source": [
    "### Pour importer les fichiers csv\n",
    "pd.read_csv\n",
    "\n",
    "### Pour créer nos echantillons de train et de test\n",
    "from sklearn import model_selection.train_test_split\n",
    "\n",
    "model_selection.train_test_split\n",
    "\n",
    "### Trouver la meilleur valeur d'un paramètre\n",
    "form sklearn import model_selection\n",
    "\n",
    "model_selection.GridSearchCV\n",
    "\n",
    "### Créer une répartition d'échantillon de test aléatoire\n",
    "from sklearn import model_selection\n",
    "\n",
    "model_selection.KFold\n",
    "\n",
    "### Pour calculer une regression linéaire\n",
    "from sklearn import linear_model\n",
    "\n",
    "linear_model.LogisticRegression\n",
    "\n",
    "### Pour faire une PCA\n",
    "from sklearn import decomposition\n",
    "\n",
    "decomposition.PCA\n",
    "\n",
    "### Classificatuer gaussien\n",
    "from sklearn.naive_bayes import GaussianNB\n",
    "\n",
    "### Classificateur k-voisins\n",
    "from sklearn import neighbors\n",
    "\n",
    "neighbors.KNeighborsClassifier\n",
    "\n",
    "### Regression logistique\n",
    "from sklearn import linear_model\n",
    "\n",
    "linear_model.LogisticRegression\n",
    "\n",
    "### Regression logistique lasso\n",
    "from sklearn import linear_model\n",
    "\n",
    "linear_model.LogisticRegressionCV\n",
    "\n",
    "### Decision Tree Classifier\n",
    "from sklearn.tree import DecisionTreeClassifier\n",
    "\n",
    "### Decision Tree Regressor\n",
    "from sklearn.tree import DecisionTreeRegressor\n",
    "\n",
    "### Bagged Tree\n",
    "from sklearn.ensemble import BaggingRegressor\n",
    "\n",
    "### Random forest regressor\n",
    "from sklearn.ensemble import RandomForestRegressor\n",
    "\n",
    "### Reseaux de neurones\n",
    "from tensorflow.keras.models import Sequential\n",
    "\n",
    "from tensorflow.keras.layers import Dense, Activation\n",
    "\n",
    "from tensorflow.keras.utils import plot_model\n",
    "\n",
    "from tensorflow.keras.optimizers import SGD"
   ]
  },
  {
   "cell_type": "markdown",
   "metadata": {},
   "source": [
    "# Importation des données"
   ]
  },
  {
   "cell_type": "markdown",
   "metadata": {},
   "source": [
    "Nous allons importer toutes les données qui vont nous être utiles, même celles qui ne seront pas utiles avant la fin\n"
   ]
  },
  {
   "cell_type": "code",
   "execution_count": 4,
   "metadata": {
    "tags": []
   },
   "outputs": [],
   "source": [
    "dataPath = \"cortical_thickness.npy\""
   ]
  },
  {
   "cell_type": "code",
   "execution_count": 21,
   "metadata": {
    "tags": []
   },
   "outputs": [
    {
     "data": {
      "text/plain": [
       "406325"
      ]
     },
     "execution_count": 21,
     "metadata": {},
     "output_type": "execute_result"
    }
   ],
   "source": [
    "data  =   np.load(dataPath,allow_pickle=True)\n",
    "data[0].size"
   ]
  },
  {
   "cell_type": "code",
   "execution_count": 23,
   "metadata": {
    "tags": []
   },
   "outputs": [
    {
     "data": {
      "text/plain": [
       "array([array([[4.85491085],\n",
       "              [5.74003458],\n",
       "              [6.68786335],\n",
       "              ...,\n",
       "              [1.23504281],\n",
       "              [1.2750001 ],\n",
       "              [1.11842108]]), array([[5.64812231],\n",
       "                                     [5.64812231],\n",
       "                                     [6.54074097],\n",
       "                                     ...,\n",
       "                                     [1.23626375],\n",
       "                                     [1.43533242],\n",
       "                                     [1.30319166]]),\n",
       "       array([[10.88043499],\n",
       "              [11.8590641 ],\n",
       "              [10.90960217],\n",
       "              ...,\n",
       "              [ 1.        ],\n",
       "              [ 1.0518868 ],\n",
       "              [ 1.20212793]]), array([[4.46120691],\n",
       "                                      [5.47523165],\n",
       "                                      [6.51008129],\n",
       "                                      ...,\n",
       "                                      [1.18652761],\n",
       "                                      [1.16525435],\n",
       "                                      [1.16525435]]),\n",
       "       array([[2.756567  ],\n",
       "              [4.629529  ],\n",
       "              [6.        ],\n",
       "              ...,\n",
       "              [2.0795455 ],\n",
       "              [2.60725331],\n",
       "              [2.47938156]])], dtype=object)"
      ]
     },
     "execution_count": 23,
     "metadata": {},
     "output_type": "execute_result"
    }
   ],
   "source": [
    "data[:5]"
   ]
  },
  {
   "cell_type": "markdown",
   "metadata": {},
   "source": [
    "# Transformation des données"
   ]
  },
  {
   "cell_type": "code",
   "execution_count": 52,
   "metadata": {
    "tags": []
   },
   "outputs": [
    {
     "data": {
      "text/html": [
       "<div>\n",
       "<style scoped>\n",
       "    .dataframe tbody tr th:only-of-type {\n",
       "        vertical-align: middle;\n",
       "    }\n",
       "\n",
       "    .dataframe tbody tr th {\n",
       "        vertical-align: top;\n",
       "    }\n",
       "\n",
       "    .dataframe thead th {\n",
       "        text-align: right;\n",
       "    }\n",
       "</style>\n",
       "<table border=\"1\" class=\"dataframe\">\n",
       "  <thead>\n",
       "    <tr style=\"text-align: right;\">\n",
       "      <th></th>\n",
       "      <th>p1q0</th>\n",
       "      <th>p2q0</th>\n",
       "      <th>p3q0</th>\n",
       "      <th>p0q1</th>\n",
       "      <th>p0q2</th>\n",
       "      <th>p0q3</th>\n",
       "      <th>hour</th>\n",
       "      <th>day</th>\n",
       "      <th>way</th>\n",
       "      <th>train</th>\n",
       "      <th>composition</th>\n",
       "      <th>station</th>\n",
       "    </tr>\n",
       "  </thead>\n",
       "  <tbody>\n",
       "    <tr>\n",
       "      <th>count</th>\n",
       "      <td>31119.000000</td>\n",
       "      <td>31119.000000</td>\n",
       "      <td>31119.000000</td>\n",
       "      <td>31119.00000</td>\n",
       "      <td>31119.000000</td>\n",
       "      <td>31119.000000</td>\n",
       "      <td>31119.000000</td>\n",
       "      <td>31119.000000</td>\n",
       "      <td>31119.0</td>\n",
       "      <td>31119.000000</td>\n",
       "      <td>31119.000000</td>\n",
       "      <td>31119.000000</td>\n",
       "    </tr>\n",
       "    <tr>\n",
       "      <th>mean</th>\n",
       "      <td>0.234769</td>\n",
       "      <td>0.251392</td>\n",
       "      <td>0.316867</td>\n",
       "      <td>0.20720</td>\n",
       "      <td>0.222167</td>\n",
       "      <td>0.209845</td>\n",
       "      <td>26587.640991</td>\n",
       "      <td>1.923262</td>\n",
       "      <td>0.0</td>\n",
       "      <td>27.067965</td>\n",
       "      <td>1.999647</td>\n",
       "      <td>13.448119</td>\n",
       "    </tr>\n",
       "    <tr>\n",
       "      <th>std</th>\n",
       "      <td>0.160581</td>\n",
       "      <td>0.133606</td>\n",
       "      <td>0.135142</td>\n",
       "      <td>0.12759</td>\n",
       "      <td>0.131552</td>\n",
       "      <td>0.120481</td>\n",
       "      <td>3226.724994</td>\n",
       "      <td>1.449015</td>\n",
       "      <td>0.0</td>\n",
       "      <td>15.979186</td>\n",
       "      <td>0.018798</td>\n",
       "      <td>9.918056</td>\n",
       "    </tr>\n",
       "    <tr>\n",
       "      <th>min</th>\n",
       "      <td>0.000000</td>\n",
       "      <td>0.000000</td>\n",
       "      <td>0.000000</td>\n",
       "      <td>0.00400</td>\n",
       "      <td>0.004000</td>\n",
       "      <td>0.004000</td>\n",
       "      <td>21600.000000</td>\n",
       "      <td>0.000000</td>\n",
       "      <td>0.0</td>\n",
       "      <td>1.000000</td>\n",
       "      <td>1.000000</td>\n",
       "      <td>0.000000</td>\n",
       "    </tr>\n",
       "    <tr>\n",
       "      <th>25%</th>\n",
       "      <td>0.100000</td>\n",
       "      <td>0.149000</td>\n",
       "      <td>0.223000</td>\n",
       "      <td>0.10700</td>\n",
       "      <td>0.126000</td>\n",
       "      <td>0.132000</td>\n",
       "      <td>25200.000000</td>\n",
       "      <td>1.000000</td>\n",
       "      <td>0.0</td>\n",
       "      <td>13.000000</td>\n",
       "      <td>2.000000</td>\n",
       "      <td>4.000000</td>\n",
       "    </tr>\n",
       "    <tr>\n",
       "      <th>50%</th>\n",
       "      <td>0.214000</td>\n",
       "      <td>0.251392</td>\n",
       "      <td>0.316867</td>\n",
       "      <td>0.20200</td>\n",
       "      <td>0.222167</td>\n",
       "      <td>0.209845</td>\n",
       "      <td>25200.000000</td>\n",
       "      <td>2.000000</td>\n",
       "      <td>0.0</td>\n",
       "      <td>26.000000</td>\n",
       "      <td>2.000000</td>\n",
       "      <td>12.000000</td>\n",
       "    </tr>\n",
       "    <tr>\n",
       "      <th>75%</th>\n",
       "      <td>0.350000</td>\n",
       "      <td>0.332750</td>\n",
       "      <td>0.392000</td>\n",
       "      <td>0.27800</td>\n",
       "      <td>0.278000</td>\n",
       "      <td>0.226000</td>\n",
       "      <td>28800.000000</td>\n",
       "      <td>3.000000</td>\n",
       "      <td>0.0</td>\n",
       "      <td>41.000000</td>\n",
       "      <td>2.000000</td>\n",
       "      <td>22.000000</td>\n",
       "    </tr>\n",
       "    <tr>\n",
       "      <th>max</th>\n",
       "      <td>0.934000</td>\n",
       "      <td>0.937000</td>\n",
       "      <td>0.937000</td>\n",
       "      <td>0.96900</td>\n",
       "      <td>0.974000</td>\n",
       "      <td>0.974000</td>\n",
       "      <td>39600.000000</td>\n",
       "      <td>4.000000</td>\n",
       "      <td>0.0</td>\n",
       "      <td>55.000000</td>\n",
       "      <td>2.000000</td>\n",
       "      <td>35.000000</td>\n",
       "    </tr>\n",
       "  </tbody>\n",
       "</table>\n",
       "</div>"
      ],
      "text/plain": [
       "               p1q0          p2q0          p3q0         p0q1          p0q2  \\\n",
       "count  31119.000000  31119.000000  31119.000000  31119.00000  31119.000000   \n",
       "mean       0.234769      0.251392      0.316867      0.20720      0.222167   \n",
       "std        0.160581      0.133606      0.135142      0.12759      0.131552   \n",
       "min        0.000000      0.000000      0.000000      0.00400      0.004000   \n",
       "25%        0.100000      0.149000      0.223000      0.10700      0.126000   \n",
       "50%        0.214000      0.251392      0.316867      0.20200      0.222167   \n",
       "75%        0.350000      0.332750      0.392000      0.27800      0.278000   \n",
       "max        0.934000      0.937000      0.937000      0.96900      0.974000   \n",
       "\n",
       "               p0q3          hour           day      way         train  \\\n",
       "count  31119.000000  31119.000000  31119.000000  31119.0  31119.000000   \n",
       "mean       0.209845  26587.640991      1.923262      0.0     27.067965   \n",
       "std        0.120481   3226.724994      1.449015      0.0     15.979186   \n",
       "min        0.004000  21600.000000      0.000000      0.0      1.000000   \n",
       "25%        0.132000  25200.000000      1.000000      0.0     13.000000   \n",
       "50%        0.209845  25200.000000      2.000000      0.0     26.000000   \n",
       "75%        0.226000  28800.000000      3.000000      0.0     41.000000   \n",
       "max        0.974000  39600.000000      4.000000      0.0     55.000000   \n",
       "\n",
       "        composition       station  \n",
       "count  31119.000000  31119.000000  \n",
       "mean       1.999647     13.448119  \n",
       "std        0.018798      9.918056  \n",
       "min        1.000000      0.000000  \n",
       "25%        2.000000      4.000000  \n",
       "50%        2.000000     12.000000  \n",
       "75%        2.000000     22.000000  \n",
       "max        2.000000     35.000000  "
      ]
     },
     "execution_count": 52,
     "metadata": {},
     "output_type": "execute_result"
    }
   ],
   "source": [
    "#transformation en float des colonnes date et hour\n",
    "from datetime import datetime\n",
    "XTrain_hd = XTrain[[\"hour\",\"date\", \"way\", \"train\", \"composition\", \"station\"]]\n",
    "XTrain_hd = XTrain_hd.fillna(method='ffill')\n",
    "hour_f = np.zeros((XTrain_hd.shape[0]))\n",
    "day_f = np.zeros((XTrain_hd.shape[0]))\n",
    "station_i = np.zeros((XTrain_hd.shape[0]))\n",
    "liste_station={}\n",
    "\n",
    "for i in range(XTrain_hd.shape[0]):\n",
    "    hour_f[i] = (datetime.strptime(XTrain_hd[\"hour\"][i],'%H:%M:%S')-datetime.strptime('00:00:00','%H:%M:%S')).seconds\n",
    "    day_f[i] = datetime.strptime(XTrain_hd[\"date\"][i],\"%Y-%m-%d\").weekday()\n",
    "    \n",
    "    if XTrain_hd[\"station\"][i] in liste_station.keys():\n",
    "        station_i[i]=liste_station[XTrain_hd[\"station\"][i]]\n",
    "    else :\n",
    "        liste_station[XTrain_hd[\"station\"][i]]=len(liste_station.keys())\n",
    "    \n",
    "    \n",
    "#récupération des colonnes\n",
    "XTrain_ = XTrain[[\"p1q0\",\"p2q0\",\"p3q0\",\"p0q1\",\"p0q2\",\"p0q3\"]]\n",
    "XTrain_ = XTrain_.fillna(XTrain_.mean())\n",
    "\n",
    "XTrain_[\"hour\"]=hour_f\n",
    "XTrain_[\"day\"]=day_f\n",
    "XTrain_[\"way\"]=XTrain_hd[\"way\"]\n",
    "XTrain_[\"train\"]=XTrain_hd[\"train\"]\n",
    "XTrain_[\"composition\"]=XTrain_hd[\"composition\"]\n",
    "XTrain_[\"station\"]=station_i\n",
    "\n",
    "\n",
    "\n",
    "\n",
    "\n",
    "\n",
    "\n",
    "#même opération pour XTest\n",
    "\n",
    "XTest_hd = XTest[[\"hour\",\"date\", \"way\", \"train\", \"composition\", \"station\"]]\n",
    "XTest_hd = XTest_hd.fillna(method='ffill')\n",
    "hour_f = np.zeros((XTest_hd.shape[0]))\n",
    "day_f = np.zeros((XTest_hd.shape[0]))\n",
    "station_i = np.zeros((XTest_hd.shape[0]))\n",
    "liste_station={}\n",
    "\n",
    "for i in range(XTest_hd.shape[0]):\n",
    "    hour_f[i] = (datetime.strptime(XTest_hd[\"hour\"][i],'%H:%M:%S')-datetime.strptime('00:00:00','%H:%M:%S')).seconds\n",
    "    day_f[i] = datetime.strptime(XTest_hd[\"date\"][i],\"%Y-%m-%d\").weekday()\n",
    "    \n",
    "    if XTest_hd[\"station\"][i] in liste_station.keys():\n",
    "        station_i[i]=liste_station[XTest_hd[\"station\"][i]]\n",
    "    else :\n",
    "        liste_station[XTest_hd[\"station\"][i]]=len(liste_station.keys())\n",
    "    \n",
    "#récupération des colonnes\n",
    "XTest_ = XTest[[\"p1q0\",\"p2q0\",\"p3q0\",\"p0q1\",\"p0q2\",\"p0q3\"]]\n",
    "XTest_ = XTest_.fillna(0)\n",
    "\n",
    "XTest_[\"hour\"]=hour_f\n",
    "XTest_[\"day\"]=day_f\n",
    "XTest_[\"way\"]=XTest_hd[\"way\"]\n",
    "XTest_[\"train\"]=XTest_hd[\"train\"]\n",
    "XTest_[\"composition\"]=XTest_hd[\"composition\"]\n",
    "XTest_[\"station\"]=station_i"
   ]
  },
  {
   "cell_type": "markdown",
   "metadata": {
    "tags": []
   },
   "source": [
    "# Exemple de Découpage train / test"
   ]
  },
  {
   "cell_type": "markdown",
   "metadata": {},
   "source": [
    "En apprentissage statistique, classiquement un prédicteur est ajusté sur une partie seulement des données et l'erreur de ce dernier est ensuite évaluée sur une autre partie des données disponibles. Ceci permet de ne pas utiliser les mêmes données pour ajuster et évaluer la qualité d'un prédicteur. Cette problématique est l'objet du prochain chapitre."
   ]
  },
  {
   "cell_type": "markdown",
   "metadata": {},
   "source": [
    "> En utilisant la fonction [`train_test_split`](http://scikit-learn.org/stable/modules/generated/sklearn.model_selection.train_test_split.html#sklearn.model_selection.train_test_split) de la librairie [`sklearn.model_selection`](http://scikit-learn.org/stable/modules/classes.html#module-sklearn.model_selection), on sélectionne aléatoirement 60% des observations pour l'échantillon d'apprentissage et on garde le reste pour l'échantillon de test. "
   ]
  },
  {
   "cell_type": "code",
   "execution_count": 12,
   "metadata": {
    "tags": []
   },
   "outputs": [],
   "source": [
    "from sklearn import model_selection\n",
    "\n",
    "XTrain_train,XTrain_test,YTrain_train, YTrain_test = model_selection.train_test_split(XTrain.to_numpy(), YTrain.to_numpy(), test_size=0.4, train_size=0.6, random_state=0, shuffle=True, stratify=None)"
   ]
  },
  {
   "cell_type": "markdown",
   "metadata": {
    "tags": []
   },
   "source": [
    "# Exemple de transformation des predictions en CSV"
   ]
  },
  {
   "cell_type": "markdown",
   "metadata": {},
   "source": [
    "Il faut que l'on obtienne un fichier csv pour tester nos résultats, voici comment on procède"
   ]
  },
  {
   "cell_type": "code",
   "execution_count": 91,
   "metadata": {
    "tags": []
   },
   "outputs": [
    {
     "name": "stdout",
     "output_type": "stream",
     "text": [
      "[0.216 0.216 0.227 ... 0.139 0.117 0.416]\n"
     ]
    }
   ],
   "source": [
    "prediction = YTrain.to_numpy()\n",
    "print(prediction)\n",
    "\n",
    "df = pd.DataFrame(prediction, columns=['p0q0'])\n",
    "df.to_csv(\"predictionExemple.csv\")"
   ]
  },
  {
   "cell_type": "markdown",
   "metadata": {
    "tags": []
   },
   "source": [
    "# Decision tree regressor avec pq"
   ]
  },
  {
   "cell_type": "code",
   "execution_count": 95,
   "metadata": {
    "tags": []
   },
   "outputs": [],
   "source": [
    "#Selections des colonnes\n",
    "XTrain_ = XTrain[[\"p0q1\",\"p0q2\", \"p0q3\", \"p1q0\",\"p2q0\",\"p3q0\"]]\n",
    "\n",
    "#Nan -> 0\n",
    "XTrain_ = XTrain_.fillna(0)\n",
    "\n",
    "#Découpage train/test\n",
    "from sklearn import model_selection\n",
    "XTrain_train,XTrain_test,YTrain_train, YTrain_test = model_selection.train_test_split(XTrain_.to_numpy(), YTrain.to_numpy(), test_size=0.4, train_size=0.6, random_state=0, shuffle=True, stratify=None)\n",
    "\n",
    "\n",
    "#Decision Tree Regressor\n",
    "from sklearn.tree import DecisionTreeRegressor\n",
    "\n",
    "DTR=DecisionTreeRegressor().fit(XTrain_.to_numpy(), YTrain.to_numpy())\n",
    "prediction = DTR.predict(XTest_.to_numpy())\n"
   ]
  },
  {
   "cell_type": "markdown",
   "metadata": {},
   "source": [
    "## Decision tree regressor avec pq"
   ]
  },
  {
   "cell_type": "code",
   "execution_count": 52,
   "metadata": {
    "tags": []
   },
   "outputs": [],
   "source": [
    "#selection des colonnes\n",
    "XTrain_ = XTrain[[\"p0q1\",\"p0q2\", \"p0q3\", \"p1q0\",\"p2q0\",\"p3q0\"]]\n",
    "XTrain_ = XTrain_.fillna(0)\n",
    "XTest_ = XTest[[\"p0q1\",\"p0q2\", \"p0q3\", \"p1q0\",\"p2q0\",\"p3q0\"]]\n",
    "XTest_ = XTrain_.fillna(0)\n",
    "\n",
    "#Decision Tree Regressor\n",
    "from sklearn.tree import DecisionTreeRegressor\n",
    "\n",
    "DTR=DecisionTreeRegressor().fit(XTrain_.to_numpy(), YTrain.to_numpy())\n",
    "\n"
   ]
  },
  {
   "cell_type": "code",
   "execution_count": null,
   "metadata": {},
   "outputs": [],
   "source": [
    "prediction = DTR.predict(XTest_.to_numpy())\n",
    "\n",
    "\n",
    "df = pd.DataFrame(prediction, columns=['p0q0'], index = np.arange(1, prediction.size+1))\n",
    "df.to_csv(\"prediction1.csv\")"
   ]
  },
  {
   "cell_type": "markdown",
   "metadata": {
    "tags": []
   },
   "source": [
    "# Decision tree regressor avec pq + sens, train, heure, jour, composition"
   ]
  },
  {
   "cell_type": "code",
   "execution_count": 51,
   "metadata": {
    "tags": []
   },
   "outputs": [],
   "source": [
    "#Calcul de modèle de décision tree regressor\n",
    "#FAIRE DES TEST EN CHANGEANT LE CALCUL DE SCORE\n",
    "#Decision Tree Regressor\n",
    "from sklearn.tree import DecisionTreeRegressor\n",
    "\n",
    "DTR=DecisionTreeRegressor().fit(XTrain_.to_numpy(), YTrain.to_numpy())\n",
    "\n"
   ]
  },
  {
   "cell_type": "code",
   "execution_count": null,
   "metadata": {},
   "outputs": [],
   "source": [
    "prediction = DTR.predict(XTest_.to_numpy())\n",
    "\n",
    "\n",
    "df = pd.DataFrame(prediction, columns=['p0q0'], index = np.arange(1, prediction.size+1))\n",
    "df.to_csv(\"prediction2.csv\")"
   ]
  },
  {
   "cell_type": "markdown",
   "metadata": {},
   "source": [
    "# Bagged Tree Regressor"
   ]
  },
  {
   "cell_type": "code",
   "execution_count": 25,
   "metadata": {
    "tags": []
   },
   "outputs": [
    {
     "name": "stdout",
     "output_type": "stream",
     "text": [
      "{'mean_fit_time': array([ 0.52042961,  5.52087708, 10.43095031, 15.73000121, 20.91146379,\n",
      "       27.25621433, 32.06793742, 35.6737422 , 34.99069366]), 'std_fit_time': array([0.06144129, 0.36334296, 0.36005403, 0.51026154, 0.62106897,\n",
      "       1.14457825, 0.8667517 , 1.00410535, 2.11203338]), 'mean_score_time': array([0.00938063, 0.0254086 , 0.04323816, 0.05611434, 0.07573447,\n",
      "       0.09616084, 0.10656362, 0.11298923, 0.09728808]), 'std_score_time': array([0.00765925, 0.00801315, 0.0060713 , 0.00783067, 0.00560849,\n",
      "       0.00306039, 0.00620546, 0.01835284, 0.01169838]), 'param_n_estimators': masked_array(data=[1, 11, 21, 31, 41, 51, 61, 71, 81],\n",
      "             mask=[False, False, False, False, False, False, False, False,\n",
      "                   False],\n",
      "       fill_value='?',\n",
      "            dtype=object), 'params': [{'n_estimators': 1}, {'n_estimators': 11}, {'n_estimators': 21}, {'n_estimators': 31}, {'n_estimators': 41}, {'n_estimators': 51}, {'n_estimators': 61}, {'n_estimators': 71}, {'n_estimators': 81}], 'split0_test_score': array([0.85543886, 0.93517686, 0.94215407, 0.9427631 , 0.94448174,\n",
      "       0.94256437, 0.94403814, 0.94367639, 0.94393005]), 'split1_test_score': array([0.8472235 , 0.92531231, 0.91713473, 0.92538867, 0.92494368,\n",
      "       0.92205619, 0.92154579, 0.92371945, 0.92451829]), 'split2_test_score': array([0.58304817, 0.60829462, 0.59601207, 0.59816159, 0.60186935,\n",
      "       0.60132295, 0.60210463, 0.5955427 , 0.61133235]), 'split3_test_score': array([0.91636823, 0.95000582, 0.95409713, 0.95538922, 0.95318184,\n",
      "       0.9532679 , 0.95312827, 0.95551804, 0.9548718 ]), 'split4_test_score': array([0.89021385, 0.91861584, 0.92472558, 0.92249107, 0.91863859,\n",
      "       0.92282739, 0.92267231, 0.92539105, 0.92429105]), 'mean_test_score': array([0.81845852, 0.86748109, 0.86682471, 0.86883873, 0.86862304,\n",
      "       0.86840776, 0.86869783, 0.86876953, 0.87178871]), 'std_test_score': array([0.12028977, 0.13002299, 0.13602506, 0.13586639, 0.13396703,\n",
      "       0.13407042, 0.13385271, 0.13712384, 0.13075289]), 'rank_test_score': array([9, 7, 8, 2, 5, 6, 4, 3, 1])}\n"
     ]
    },
    {
     "data": {
      "text/plain": [
       "[<matplotlib.lines.Line2D at 0x28391fe1050>]"
      ]
     },
     "execution_count": 25,
     "metadata": {},
     "output_type": "execute_result"
    },
    {
     "data": {
      "image/png": "[encoded data removed]",
      "text/plain": [
       "<Figure size 640x480 with 1 Axes>"
      ]
     },
     "metadata": {},
     "output_type": "display_data"
    }
   ],
   "source": [
    "from sklearn.ensemble import BaggingRegressor\n",
    "from sklearn.model_selection import GridSearchCV\n",
    "\n",
    "\n",
    "n_estimators = np.arange(1,82,10)\n",
    "\n",
    "tuned_parameters = {'n_estimators':n_estimators}\n",
    "\n",
    "Cart_grid = GridSearchCV(\n",
    "    BaggingRegressor(estimator = DecisionTreeRegressor(criterion = \"friedman_mse\")),\n",
    "    tuned_parameters,\n",
    "    n_jobs=-1\n",
    "    )\n",
    "\n",
    "Cart_grid.fit(XTrain_.to_numpy(), YTrain.to_numpy())\n",
    "\n",
    "print(Cart_grid.cv_results_)\n",
    "mean_score = Cart_grid.cv_results_['mean_test_score']\n",
    "import matplotlib.pyplot as plt \n",
    "plt.plot(n_estimators, mean_score)\n",
    "\n",
    "\n"
   ]
  },
  {
   "cell_type": "code",
   "execution_count": 53,
   "metadata": {
    "tags": []
   },
   "outputs": [
    {
     "data": {
      "text/html": [
       "<style>#sk-container-id-2 {color: black;}#sk-container-id-2 pre{padding: 0;}#sk-container-id-2 div.sk-toggleable {background-color: white;}#sk-container-id-2 label.sk-toggleable__label {cursor: pointer;display: block;width: 100%;margin-bottom: 0;padding: 0.3em;box-sizing: border-box;text-align: center;}#sk-container-id-2 label.sk-toggleable__label-arrow:before {content: \"▸\";float: left;margin-right: 0.25em;color: #696969;}#sk-container-id-2 label.sk-toggleable__label-arrow:hover:before {color: black;}#sk-container-id-2 div.sk-estimator:hover label.sk-toggleable__label-arrow:before {color: black;}#sk-container-id-2 div.sk-toggleable__content {max-height: 0;max-width: 0;overflow: hidden;text-align: left;background-color: #f0f8ff;}#sk-container-id-2 div.sk-toggleable__content pre {margin: 0.2em;color: black;border-radius: 0.25em;background-color: #f0f8ff;}#sk-container-id-2 input.sk-toggleable__control:checked~div.sk-toggleable__content {max-height: 200px;max-width: 100%;overflow: auto;}#sk-container-id-2 input.sk-toggleable__control:checked~label.sk-toggleable__label-arrow:before {content: \"▾\";}#sk-container-id-2 div.sk-estimator input.sk-toggleable__control:checked~label.sk-toggleable__label {background-color: #d4ebff;}#sk-container-id-2 div.sk-label input.sk-toggleable__control:checked~label.sk-toggleable__label {background-color: #d4ebff;}#sk-container-id-2 input.sk-hidden--visually {border: 0;clip: rect(1px 1px 1px 1px);clip: rect(1px, 1px, 1px, 1px);height: 1px;margin: -1px;overflow: hidden;padding: 0;position: absolute;width: 1px;}#sk-container-id-2 div.sk-estimator {font-family: monospace;background-color: #f0f8ff;border: 1px dotted black;border-radius: 0.25em;box-sizing: border-box;margin-bottom: 0.5em;}#sk-container-id-2 div.sk-estimator:hover {background-color: #d4ebff;}#sk-container-id-2 div.sk-parallel-item::after {content: \"\";width: 100%;border-bottom: 1px solid gray;flex-grow: 1;}#sk-container-id-2 div.sk-label:hover label.sk-toggleable__label {background-color: #d4ebff;}#sk-container-id-2 div.sk-serial::before {content: \"\";position: absolute;border-left: 1px solid gray;box-sizing: border-box;top: 0;bottom: 0;left: 50%;z-index: 0;}#sk-container-id-2 div.sk-serial {display: flex;flex-direction: column;align-items: center;background-color: white;padding-right: 0.2em;padding-left: 0.2em;position: relative;}#sk-container-id-2 div.sk-item {position: relative;z-index: 1;}#sk-container-id-2 div.sk-parallel {display: flex;align-items: stretch;justify-content: center;background-color: white;position: relative;}#sk-container-id-2 div.sk-item::before, #sk-container-id-2 div.sk-parallel-item::before {content: \"\";position: absolute;border-left: 1px solid gray;box-sizing: border-box;top: 0;bottom: 0;left: 50%;z-index: -1;}#sk-container-id-2 div.sk-parallel-item {display: flex;flex-direction: column;z-index: 1;position: relative;background-color: white;}#sk-container-id-2 div.sk-parallel-item:first-child::after {align-self: flex-end;width: 50%;}#sk-container-id-2 div.sk-parallel-item:last-child::after {align-self: flex-start;width: 50%;}#sk-container-id-2 div.sk-parallel-item:only-child::after {width: 0;}#sk-container-id-2 div.sk-dashed-wrapped {border: 1px dashed gray;margin: 0 0.4em 0.5em 0.4em;box-sizing: border-box;padding-bottom: 0.4em;background-color: white;}#sk-container-id-2 div.sk-label label {font-family: monospace;font-weight: bold;display: inline-block;line-height: 1.2em;}#sk-container-id-2 div.sk-label-container {text-align: center;}#sk-container-id-2 div.sk-container {/* jupyter's `normalize.less` sets `[hidden] { display: none; }` but bootstrap.min.css set `[hidden] { display: none !important; }` so we also need the `!important` here to be able to override the default hidden behavior on the sphinx rendered scikit-learn.org. See: https://github.com/scikit-learn/scikit-learn/issues/21755 */display: inline-block !important;position: relative;}#sk-container-id-2 div.sk-text-repr-fallback {display: none;}</style><div id=\"sk-container-id-2\" class=\"sk-top-container\"><div class=\"sk-text-repr-fallback\"><pre>BaggingRegressor(estimator=DecisionTreeRegressor(criterion=&#x27;friedman_mse&#x27;))</pre><b>In a Jupyter environment, please rerun this cell to show the HTML representation or trust the notebook. <br />On GitHub, the HTML representation is unable to render, please try loading this page with nbviewer.org.</b></div><div class=\"sk-container\" hidden><div class=\"sk-item sk-dashed-wrapped\"><div class=\"sk-label-container\"><div class=\"sk-label sk-toggleable\"><input class=\"sk-toggleable__control sk-hidden--visually\" id=\"sk-estimator-id-2\" type=\"checkbox\" ><label for=\"sk-estimator-id-2\" class=\"sk-toggleable__label sk-toggleable__label-arrow\">BaggingRegressor</label><div class=\"sk-toggleable__content\"><pre>BaggingRegressor(estimator=DecisionTreeRegressor(criterion=&#x27;friedman_mse&#x27;))</pre></div></div></div><div class=\"sk-parallel\"><div class=\"sk-parallel-item\"><div class=\"sk-item\"><div class=\"sk-label-container\"><div class=\"sk-label sk-toggleable\"><input class=\"sk-toggleable__control sk-hidden--visually\" id=\"sk-estimator-id-3\" type=\"checkbox\" ><label for=\"sk-estimator-id-3\" class=\"sk-toggleable__label sk-toggleable__label-arrow\">estimator: DecisionTreeRegressor</label><div class=\"sk-toggleable__content\"><pre>DecisionTreeRegressor(criterion=&#x27;friedman_mse&#x27;)</pre></div></div></div><div class=\"sk-serial\"><div class=\"sk-item\"><div class=\"sk-estimator sk-toggleable\"><input class=\"sk-toggleable__control sk-hidden--visually\" id=\"sk-estimator-id-4\" type=\"checkbox\" ><label for=\"sk-estimator-id-4\" class=\"sk-toggleable__label sk-toggleable__label-arrow\">DecisionTreeRegressor</label><div class=\"sk-toggleable__content\"><pre>DecisionTreeRegressor(criterion=&#x27;friedman_mse&#x27;)</pre></div></div></div></div></div></div></div></div></div></div>"
      ],
      "text/plain": [
       "BaggingRegressor(estimator=DecisionTreeRegressor(criterion='friedman_mse'))"
      ]
     },
     "execution_count": 53,
     "metadata": {},
     "output_type": "execute_result"
    }
   ],
   "source": [
    "from sklearn.ensemble import BaggingRegressor\n",
    "from sklearn.tree import DecisionTreeRegressor\n",
    "\n",
    "bagTree = BaggingRegressor(estimator = DecisionTreeRegressor(criterion = \"friedman_mse\"), n_estimators=10)\n",
    "bagTree.fit(XTrain_.to_numpy(), YTrain.to_numpy())\n",
    "\n"
   ]
  },
  {
   "cell_type": "code",
   "execution_count": 54,
   "metadata": {
    "tags": []
   },
   "outputs": [],
   "source": [
    "prediction = bagTree.predict(XTest_.to_numpy())\n",
    "\n",
    "\n",
    "df = pd.DataFrame(prediction, columns=['p0q0'], index = np.arange(1, prediction.size+1))\n",
    "df.to_csv(\"prediction_bgf10.csv\")"
   ]
  },
  {
   "cell_type": "markdown",
   "metadata": {
    "tags": []
   },
   "source": [
    "# Linear regression"
   ]
  },
  {
   "cell_type": "code",
   "execution_count": 14,
   "metadata": {
    "tags": []
   },
   "outputs": [
    {
     "name": "stdout",
     "output_type": "stream",
     "text": [
      "Mean Squared Error: 0.0034744957205418234\n",
      "R-squared: 0.8597012016847498\n",
      "Mean Squared Error: 0.0012455566588306182\n",
      "R-squared: 0.9497049020856924\n"
     ]
    }
   ],
   "source": [
    "# Linear regression - Test\n",
    "from sklearn.model_selection import train_test_split\n",
    "from sklearn.linear_model import LinearRegression\n",
    "from sklearn.metrics import mean_squared_error, r2_score\n",
    "\n",
    "XTrain_ = XTrain[[\"p0q1\",\"p0q2\", \"p0q3\", \"p1q0\",\"p2q0\",\"p3q0\"]]\n",
    "XTrain_lr = XTrain_.fillna(0)\n",
    "\n",
    "XTrain_train,XTrain_test,YTrain_train, YTrain_test = train_test_split(XTrain_lr.to_numpy(), YTrain.to_numpy(), test_size=0.4, train_size=0.6, random_state=0, shuffle=True, stratify=None)\n",
    "\n",
    "model = LinearRegression()\n",
    "model.fit(XTrain_train, YTrain_train)\n",
    "y_pred = model.predict(XTrain_test)\n",
    "mse = mean_squared_error(YTrain_test, y_pred)\n",
    "r2 = r2_score(YTrain_test, y_pred)\n",
    "\n",
    "print(f'Mean Squared Error: {mse}')\n",
    "print(f'R-squared: {r2}')\n",
    "\n",
    "# Create a pipeline with polynomial features and Ridge Regression\n",
    "from sklearn.preprocessing import PolynomialFeatures\n",
    "from sklearn.linear_model import Ridge\n",
    "from sklearn.pipeline import make_pipeline\n",
    "\n",
    "model = make_pipeline(PolynomialFeatures(4), Ridge(alpha=0))  # Ridge with regularization strength alpha\n",
    "\n",
    "# Train the model\n",
    "model.fit(XTrain_train, YTrain_train)\n",
    "\n",
    "# Make predictions\n",
    "y_pred = model.predict(XTrain_test)\n",
    "\n",
    "# Evaluate the model\n",
    "mse = mean_squared_error(YTrain_test, y_pred)\n",
    "r2 = r2_score(YTrain_test, y_pred)\n",
    "\n",
    "print(f'Mean Squared Error: {mse}')\n",
    "print(f'R-squared: {r2}')\n",
    "\n",
    "\n"
   ]
  },
  {
   "cell_type": "code",
   "execution_count": 15,
   "metadata": {
    "tags": []
   },
   "outputs": [],
   "source": [
    "#Test degrée\n",
    "mse_k = np.zeros(5)\n",
    "r2_k = np.zeros(5)\n",
    "\n",
    "for k in range(2,7):\n",
    "    model = make_pipeline(PolynomialFeatures(k), Ridge(alpha=0)) \n",
    "\n",
    "# Train the model\n",
    "    model.fit(XTrain_train, YTrain_train)\n",
    "\n",
    "# Make predictions\n",
    "    y_pred = model.predict(XTrain_test)\n",
    "\n",
    "# Evaluate the model\n",
    "    mse_k[k-2] = mean_squared_error(YTrain_test, y_pred)\n",
    "    r2_k[k-2] = r2_score(YTrain_test, y_pred)\n",
    "    "
   ]
  },
  {
   "cell_type": "code",
   "execution_count": 121,
   "metadata": {
    "tags": []
   },
   "outputs": [],
   "source": [
    "#Test alpha\n",
    "mse_k = np.zeros(20)\n",
    "r2_k = np.zeros(20)\n",
    "\n",
    "for k in range(20):\n",
    "    model = make_pipeline(PolynomialFeatures(4), Ridge(alpha=k*0.001)) \n",
    "\n",
    "# Train the model\n",
    "    model.fit(XTrain_train, YTrain_train)\n",
    "\n",
    "# Make predictions\n",
    "    y_pred = model.predict(XTrain_test)\n",
    "\n",
    "# Evaluate the model\n",
    "    mse_k[k] = mean_squared_error(YTrain_test, y_pred)\n",
    "    r2_k[k] = r2_score(YTrain_test, y_pred)\n",
    "    "
   ]
  },
  {
   "cell_type": "code",
   "execution_count": 17,
   "metadata": {
    "tags": []
   },
   "outputs": [
    {
     "data": {
      "text/plain": [
       "[<matplotlib.lines.Line2D at 0x1dc9c85ba10>]"
      ]
     },
     "execution_count": 17,
     "metadata": {},
     "output_type": "execute_result"
    },
    {
     "data": {
      "image/png": "[encoded data removed]",
      "text/plain": [
       "<Figure size 640x480 with 1 Axes>"
      ]
     },
     "metadata": {},
     "output_type": "display_data"
    }
   ],
   "source": [
    "import matplotlib.pyplot as plt \n",
    "plt.plot(range(2,7),mse_k)"
   ]
  },
  {
   "cell_type": "code",
   "execution_count": 18,
   "metadata": {
    "tags": []
   },
   "outputs": [
    {
     "data": {
      "text/plain": [
       "[<matplotlib.lines.Line2D at 0x1dc9c8bb650>]"
      ]
     },
     "execution_count": 18,
     "metadata": {},
     "output_type": "execute_result"
    },
    {
     "data": {
      "image/png": "[encoded data removed]",
      "text/plain": [
       "<Figure size 640x480 with 1 Axes>"
      ]
     },
     "metadata": {},
     "output_type": "display_data"
    }
   ],
   "source": [
    "import matplotlib.pyplot as plt \n",
    "plt.plot(range(2,7),r2_k)"
   ]
  },
  {
   "cell_type": "code",
   "execution_count": 117,
   "metadata": {
    "tags": []
   },
   "outputs": [],
   "source": [
    "# Linear regression - Real Prediction\n",
    "from sklearn.linear_model import LinearRegression\n",
    "\n",
    "XTrain_lr = XTrain[[\"p0q1\",\"p0q2\", \"p0q3\", \"p1q0\",\"p2q0\",\"p3q0\"]]\n",
    "XTrain_lr = XTrain_.fillna(0)\n",
    "XTest_ = XTest[[\"p0q1\",\"p0q2\", \"p0q3\", \"p1q0\",\"p2q0\",\"p3q0\"]]\n",
    "XTest_ = XTest_.fillna(0)\n",
    "\n",
    "\n",
    "model = LinearRegression(), e, \n",
    "model.fit(XTrain_lr, YTrain)\n",
    "y_pred = model.predict(XTest_)\n",
    "\n",
    "df = pd.DataFrame(y_pred, columns=['p0q0'], index = np.arange(1, y_pred.size+1))\n",
    "df.to_csv(\"prediction_lr.csv\")\n",
    "\n",
    "# Ridge - Real Prediction\n",
    "from sklearn.preprocessing import PolynomialFeatures\n",
    "from sklearn.linear_model import Ridge\n",
    "from sklearn.pipeline import make_pipeline\n",
    "\n",
    "XTrain_lr = XTrain[[\"p0q1\",\"p0q2\", \"p0q3\", \"p1q0\",\"p2q0\",\"p3q0\"]]\n",
    "XTrain_lr = XTrain_.fillna(0)\n",
    "XTest_ = XTest[[\"p0q1\",\"p0q2\", \"p0q3\", \"p1q0\",\"p2q0\",\"p3q0\"]]\n",
    "XTest_ = XTest_.fillna(0)\n",
    "\n",
    "\n",
    "model = make_pipeline(PolynomialFeatures(4), Ridge(alpha=0))\n",
    "model.fit(XTrain_lr, YTrain)\n"
   ]
  },
  {
   "cell_type": "code",
   "execution_count": null,
   "metadata": {},
   "outputs": [],
   "source": [
    "y_pred = model.predict(XTest_)\n",
    "\n",
    "\n",
    "df = pd.DataFrame(y_pred, columns=['p0q0'], index = np.arange(1, y_pred.size+1))\n",
    "df.to_csv(\"prediction_r.csv\")"
   ]
  },
  {
   "cell_type": "markdown",
   "metadata": {},
   "source": [
    "# Réseau de Neurone"
   ]
  },
  {
   "cell_type": "code",
   "execution_count": 12,
   "metadata": {
    "tags": []
   },
   "outputs": [
    {
     "name": "stdout",
     "output_type": "stream",
     "text": [
      "[[2.3476927e-01 2.5139275e-01 3.1686702e-01 2.0720035e-01 2.2216721e-01\n",
      "  2.0984516e-01 2.6587627e+04 1.9232620e+00 0.0000000e+00 2.7067989e+01\n",
      "  1.9996463e+00]]\n"
     ]
    }
   ],
   "source": [
    "\n",
    "\n",
    "def build_and_compile_model(norm):\n",
    "  model = keras.Sequential([\n",
    "      norm,\n",
    "      layers.Dense(440, activation='relu'),\n",
    "      layers.Dense(440, activation='relu'),\n",
    "      layers.Dense(440, activation='relu'),\n",
    "      layers.Dense(1, activation=\"linear\")\n",
    "  ])\n",
    "\n",
    "  model.compile(loss='mean_absolute_error',\n",
    "                optimizer=tf.keras.optimizers.Adam(0.001))\n",
    "  return model\n",
    "\n",
    "\n",
    "\n",
    "normalizer = tf.keras.layers.Normalization(axis=-1)\n",
    "\n",
    "normalizer.adapt(np.array(np.array(XTrain_)))\n",
    "print(normalizer.mean.numpy())\n",
    "\n",
    "\n",
    "\n",
    "dnn_model = build_and_compile_model(normalizer)\n",
    "\n",
    "\n",
    "\n",
    "history = dnn_model.fit(\n",
    "    np.array(XTrain_),\n",
    "    np.array(YTrain),\n",
    "    validation_split=0.2,\n",
    "    verbose=0, epochs=10, batch_size=100)\n"
   ]
  },
  {
   "cell_type": "code",
   "execution_count": 63,
   "metadata": {
    "tags": []
   },
   "outputs": [
    {
     "name": "stdout",
     "output_type": "stream",
     "text": [
      "430/430 [==============================] - 1s 1ms/step\n"
     ]
    }
   ],
   "source": [
    "prediction = dnn_model.predict(np.array(XTest_))\n",
    "\n",
    "\n",
    "df = pd.DataFrame(prediction, columns=['p0q0'], index = np.arange(1, prediction.size+1))\n",
    "df.to_csv(\"prediction_RN5_good.csv\")"
   ]
  },
  {
   "cell_type": "markdown",
   "metadata": {},
   "source": [
    "# Random forest regressor"
   ]
  },
  {
   "cell_type": "code",
   "execution_count": 44,
   "metadata": {
    "tags": []
   },
   "outputs": [
    {
     "data": {
      "text/plain": [
       "[<matplotlib.lines.Line2D at 0x160847fb110>]"
      ]
     },
     "execution_count": 44,
     "metadata": {},
     "output_type": "execute_result"
    },
    {
     "data": {
      "image/png": "[encoded data removed]",
      "text/plain": [
       "<Figure size 640x480 with 1 Axes>"
      ]
     },
     "metadata": {},
     "output_type": "display_data"
    }
   ],
   "source": [
    "from sklearn.ensemble import RandomForestRegressor\n",
    "from sklearn.model_selection import GridSearchCV\n",
    "import matplotlib.pyplot as plt \n",
    "\n",
    "n_estimators = np.arange(1,15,1)\n",
    "#best is 6\n",
    "\n",
    "max_features = np.arange(1,10,1)\n",
    "#best is 5\n",
    "\n",
    "tuned_parameters = {'max_features':max_features}\n",
    "\n",
    "Cart_grid = GridSearchCV(\n",
    "    RandomForestRegressor(n_estimators= 6),\n",
    "    tuned_parameters,\n",
    "    n_jobs=-1\n",
    "    )\n",
    "\n",
    "Cart_grid.fit(XTrain_.to_numpy(), YTrain.to_numpy())\n",
    "\n",
    "mean_score = Cart_grid.cv_results_['mean_test_score']\n",
    "\n",
    "plt.plot(max_features, mean_score)\n",
    "\n",
    "\n",
    "\n"
   ]
  },
  {
   "cell_type": "code",
   "execution_count": 40,
   "metadata": {
    "tags": []
   },
   "outputs": [
    {
     "data": {
      "text/plain": [
       "0.00011909929000146392"
      ]
     },
     "execution_count": 40,
     "metadata": {},
     "output_type": "execute_result"
    }
   ],
   "source": [
    "\n",
    "RF = RandomForestRegressor(max_features= 5, n_estimators = 6, criterion=\"absolute_error\")\n",
    "RF.fit(XTrain_, YTrain)\n",
    "\n",
    "np.mean((RF.predict(XTrain_)-YTrain)**2)"
   ]
  },
  {
   "cell_type": "code",
   "execution_count": 42,
   "metadata": {
    "tags": []
   },
   "outputs": [],
   "source": [
    "prediction = RF.predict(XTest_)\n",
    "\n",
    "\n",
    "df = pd.DataFrame(prediction, columns=['p0q0'], index = np.arange(1, prediction.size+1))\n",
    "df.to_csv(\"prediction_RF1.csv\")"
   ]
  },
  {
   "cell_type": "code",
   "execution_count": null,
   "metadata": {},
   "outputs": [],
   "source": []
  }
 ],
 "metadata": {
  "anaconda-cloud": {},
  "kernelspec": {
   "display_name": "Python 3 (ipykernel)",
   "language": "python",
   "name": "python3"
  },
  "language_info": {
   "codemirror_mode": {
    "name": "ipython",
    "version": 3
   },
   "file_extension": ".py",
   "mimetype": "text/x-python",
   "name": "python",
   "nbconvert_exporter": "python",
   "pygments_lexer": "ipython3",
   "version": "3.11.5"
  }
 },
 "nbformat": 4,
 "nbformat_minor": 4
}
