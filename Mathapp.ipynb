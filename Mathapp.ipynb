{
 "cells": [
  {
   "cell_type": "markdown",
   "metadata": {},
   "source": [
    "# DATACHALLENGE"
   ]
  },
  {
   "cell_type": "markdown",
   "metadata": {},
   "source": [
    "Pour ce datachallenge, nous aurons besoin des modules Python ci-dessous, il vous faut donc évidemment exécuter cette première cellule."
   ]
  },
  {
   "cell_type": "code",
   "execution_count": 1,
   "metadata": {
    "tags": []
   },
   "outputs": [],
   "source": [
    "%matplotlib inline\n",
    "import pandas as pd\n",
    "import numpy as np\n",
    "import matplotlib.pyplot as plt\n",
    "import statistics as stat\n",
    "import sys"
   ]
  },
  {
   "cell_type": "code",
   "execution_count": 2,
   "metadata": {
    "tags": []
   },
   "outputs": [
    {
     "name": "stderr",
     "output_type": "stream",
     "text": [
      "INFO: Using numpy backend\n"
     ]
    }
   ],
   "source": [
    "import sklearn\n",
    "from sklearn.neighbors import KNeighborsClassifier\n",
    "import scipy as sc\n",
    "\n",
    "import tensorflow as tf\n",
    "\n",
    "from tensorflow import keras\n",
    "from tensorflow.keras import layers\n",
    "\n",
    "import geomstats as gs"
   ]
  },
  {
   "cell_type": "markdown",
   "metadata": {},
   "source": [
    "Les différentes méthodes dont nous aurons besoins"
   ]
  },
  {
   "cell_type": "markdown",
   "metadata": {},
   "source": [
    "# Importation des données"
   ]
  },
  {
   "cell_type": "markdown",
   "metadata": {},
   "source": [
    "Nous allons importer toutes les données qui vont nous être utiles, même celles qui ne seront pas utiles avant la fin\n"
   ]
  },
  {
   "cell_type": "code",
   "execution_count": 3,
   "metadata": {
    "tags": []
   },
   "outputs": [],
   "source": [
    "dataPath = \"cortical_thickness.npy\"\n",
    "labelsPath = \"labels.npy\""
   ]
  },
  {
   "cell_type": "code",
   "execution_count": 4,
   "metadata": {
    "tags": []
   },
   "outputs": [],
   "source": [
    "data  =   np.load(dataPath,allow_pickle=True)"
   ]
  },
  {
   "cell_type": "code",
   "execution_count": 5,
   "metadata": {
    "tags": []
   },
   "outputs": [],
   "source": [
    "labels  =   np.load(labelsPath,allow_pickle=True)"
   ]
  },
  {
   "cell_type": "code",
   "execution_count": 6,
   "metadata": {
    "tags": []
   },
   "outputs": [
    {
     "data": {
      "text/plain": [
       "array([array([[4.85491085],\n",
       "              [5.74003458],\n",
       "              [6.68786335],\n",
       "              ...,\n",
       "              [1.23504281],\n",
       "              [1.2750001 ],\n",
       "              [1.11842108]]), array([[5.64812231],\n",
       "                                     [5.64812231],\n",
       "                                     [6.54074097],\n",
       "                                     ...,\n",
       "                                     [1.23626375],\n",
       "                                     [1.43533242],\n",
       "                                     [1.30319166]]),\n",
       "       array([[10.88043499],\n",
       "              [11.8590641 ],\n",
       "              [10.90960217],\n",
       "              ...,\n",
       "              [ 1.        ],\n",
       "              [ 1.0518868 ],\n",
       "              [ 1.20212793]]), array([[4.46120691],\n",
       "                                      [5.47523165],\n",
       "                                      [6.51008129],\n",
       "                                      ...,\n",
       "                                      [1.18652761],\n",
       "                                      [1.16525435],\n",
       "                                      [1.16525435]]),\n",
       "       array([[2.756567  ],\n",
       "              [4.629529  ],\n",
       "              [6.        ],\n",
       "              ...,\n",
       "              [2.0795455 ],\n",
       "              [2.60725331],\n",
       "              [2.47938156]])], dtype=object)"
      ]
     },
     "execution_count": 6,
     "metadata": {},
     "output_type": "execute_result"
    }
   ],
   "source": [
    "data[:5]"
   ]
  },
  {
   "cell_type": "code",
   "execution_count": 7,
   "metadata": {
    "tags": []
   },
   "outputs": [
    {
     "data": {
      "text/plain": [
       "array([1., 0., 0., 0., 1.])"
      ]
     },
     "execution_count": 7,
     "metadata": {},
     "output_type": "execute_result"
    }
   ],
   "source": [
    "labels[:5]"
   ]
  },
  {
   "cell_type": "markdown",
   "metadata": {},
   "source": [
    "# Visualisation et normalisation des données"
   ]
  },
  {
   "cell_type": "code",
   "execution_count": 8,
   "metadata": {
    "tags": []
   },
   "outputs": [
    {
     "data": {
      "text/plain": [
       "(array([0.05028722, 0.09890038, 0.14685706, 0.25856558, 0.38230759,\n",
       "        0.31389465, 0.312969  , 0.24147056, 0.17539473, 0.16573774,\n",
       "        0.1068111 , 0.08692599, 0.07537831, 0.0497292 , 0.04457575,\n",
       "        0.03138027, 0.02400131, 0.02067947, 0.01357624, 0.01007714,\n",
       "        0.00980798, 0.00626949, 0.00568521, 0.00443788, 0.00384704,\n",
       "        0.00391269, 0.0031249 , 0.00266535, 0.00248154, 0.00177909,\n",
       "        0.00190382, 0.00134581, 0.00150993, 0.00143115, 0.00137207,\n",
       "        0.00141146, 0.00144428, 0.00126703, 0.00096504, 0.00130642]),\n",
       " array([3.13460827e-04, 3.75198074e-01, 7.50082687e-01, 1.12496730e+00,\n",
       "        1.49985191e+00, 1.87473653e+00, 2.24962114e+00, 2.62450575e+00,\n",
       "        2.99939036e+00, 3.37427498e+00, 3.74915959e+00, 4.12404420e+00,\n",
       "        4.49892882e+00, 4.87381343e+00, 5.24869804e+00, 5.62358265e+00,\n",
       "        5.99846727e+00, 6.37335188e+00, 6.74823649e+00, 7.12312111e+00,\n",
       "        7.49800572e+00, 7.87289033e+00, 8.24777494e+00, 8.62265956e+00,\n",
       "        8.99754417e+00, 9.37242878e+00, 9.74731340e+00, 1.01221980e+01,\n",
       "        1.04970826e+01, 1.08719672e+01, 1.12468518e+01, 1.16217365e+01,\n",
       "        1.19966211e+01, 1.23715057e+01, 1.27463903e+01, 1.31212749e+01,\n",
       "        1.34961595e+01, 1.38710441e+01, 1.42459287e+01, 1.46208134e+01,\n",
       "        1.49956980e+01]),\n",
       " <BarContainer object of 40 artists>)"
      ]
     },
     "execution_count": 8,
     "metadata": {},
     "output_type": "execute_result"
    },
    {
     "data": {
      "image/png": "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",
      "text/plain": [
       "<Figure size 640x480 with 1 Axes>"
      ]
     },
     "metadata": {},
     "output_type": "display_data"
    }
   ],
   "source": [
    "plt.hist(data[0], density = True,bins=40)"
   ]
  },
  {
   "cell_type": "code",
   "execution_count": 9,
   "metadata": {
    "tags": []
   },
   "outputs": [
    {
     "data": {
      "text/plain": [
       "(array([[0.05022594, 0.09889647, 0.14683195, ..., 0.00125352, 0.00099756,\n",
       "         0.0012732 ],\n",
       "        [0.08244473, 0.12922924, 0.15940718, ..., 0.00233088, 0.00172819,\n",
       "         0.00174997],\n",
       "        [0.05736222, 0.09880505, 0.1266152 , ..., 0.00232031, 0.00176209,\n",
       "         0.00230014],\n",
       "        ...,\n",
       "        [0.04307133, 0.08526204, 0.12226681, ..., 0.00130871, 0.00108856,\n",
       "         0.00107632],\n",
       "        [0.02292452, 0.04097407, 0.06003885, ..., 0.00257784, 0.00357435,\n",
       "         0.00231584],\n",
       "        [0.03798679, 0.05883259, 0.07902297, ..., 0.00257726, 0.00236619,\n",
       "         0.00203292]]),\n",
       " array([1.19209290e-07, 3.74999115e-01, 7.49998111e-01, 1.12499711e+00,\n",
       "        1.49999610e+00, 1.87499510e+00, 2.24999409e+00, 2.62499309e+00,\n",
       "        2.99999208e+00, 3.37499108e+00, 3.74999008e+00, 4.12498907e+00,\n",
       "        4.49998807e+00, 4.87498706e+00, 5.24998606e+00, 5.62498505e+00,\n",
       "        5.99998405e+00, 6.37498305e+00, 6.74998204e+00, 7.12498104e+00,\n",
       "        7.49998003e+00, 7.87497903e+00, 8.24997802e+00, 8.62497702e+00,\n",
       "        8.99997602e+00, 9.37497501e+00, 9.74997401e+00, 1.01249730e+01,\n",
       "        1.04999720e+01, 1.08749710e+01, 1.12499700e+01, 1.16249690e+01,\n",
       "        1.19999680e+01, 1.23749670e+01, 1.27499660e+01, 1.31249650e+01,\n",
       "        1.34999640e+01, 1.38749630e+01, 1.42499620e+01, 1.46249610e+01,\n",
       "        1.49999599e+01]),\n",
       " <a list of 143 BarContainer objects>)"
      ]
     },
     "execution_count": 9,
     "metadata": {},
     "output_type": "execute_result"
    },
    {
     "data": {
      "image/png": "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",
      "text/plain": [
       "<Figure size 640x480 with 1 Axes>"
      ]
     },
     "metadata": {},
     "output_type": "display_data"
    }
   ],
   "source": [
    "plt.hist(data, density = True,bins=40)"
   ]
  },
  {
   "cell_type": "code",
   "execution_count": 27,
   "metadata": {
    "tags": []
   },
   "outputs": [],
   "source": [
    "def normalised(vect):\n",
    "    normed=np.zeros(vect.size,dtype=object)\n",
    "    max = np.zeros(vect.size)\n",
    "    K = vect.size\n",
    "    for k in range(K):\n",
    "        max[k] = np.max(data[k]) \n",
    "    \n",
    "    max = np.max(max) + 0.0001\n",
    "    max = np.max(max) + 10**(-10)\n",
    "    for k in range(K):\n",
    "        normed[k] = vect[k] / max\n",
    "    return(normed)\n",
    "\n",
    "dataNormed = normalised(data)"
   ]
  },
  {
   "cell_type": "code",
   "execution_count": 11,
   "metadata": {
    "tags": []
   },
   "outputs": [
    {
     "data": {
      "text/plain": [
       "(array([0.75430626, 1.4835018 , 2.20284999, 3.8784734 , 5.73459854,\n",
       "        4.70840722, 4.69452247, 3.62204866, 2.63091387, 2.4860595 ,\n",
       "        1.60216224, 1.30388631, 1.1306716 , 0.74593602, 0.6686344 ,\n",
       "        0.47070286, 0.36001876, 0.31019122, 0.20364299, 0.15115667,\n",
       "        0.14711926, 0.0940421 , 0.08527797, 0.06656802, 0.05770541,\n",
       "        0.05869015, 0.04687334, 0.0399802 , 0.03722295, 0.02668629,\n",
       "        0.02855729, 0.02018705, 0.02264888, 0.0214672 , 0.02058094,\n",
       "        0.02117178, 0.02166415, 0.01900537, 0.01447559, 0.01959621]),\n",
       " array([2.08974443e-05, 2.50132717e-02, 5.00056460e-02, 7.49980202e-02,\n",
       "        9.99903945e-02, 1.24982769e-01, 1.49975143e-01, 1.74967517e-01,\n",
       "        1.99959892e-01, 2.24952266e-01, 2.49944640e-01, 2.74937014e-01,\n",
       "        2.99929389e-01, 3.24921763e-01, 3.49914137e-01, 3.74906511e-01,\n",
       "        3.99898886e-01, 4.24891260e-01, 4.49883634e-01, 4.74876008e-01,\n",
       "        4.99868383e-01, 5.24860757e-01, 5.49853131e-01, 5.74845505e-01,\n",
       "        5.99837880e-01, 6.24830254e-01, 6.49822628e-01, 6.74815002e-01,\n",
       "        6.99807377e-01, 7.24799751e-01, 7.49792125e-01, 7.74784500e-01,\n",
       "        7.99776874e-01, 8.24769248e-01, 8.49761622e-01, 8.74753997e-01,\n",
       "        8.99746371e-01, 9.24738745e-01, 9.49731119e-01, 9.74723494e-01,\n",
       "        9.99715868e-01]),\n",
       " <BarContainer object of 40 artists>)"
      ]
     },
<<<<<<< HEAD
     "execution_count": 11,
=======
     "execution_count": 209,
>>>>>>> origin/main
     "metadata": {},
     "output_type": "execute_result"
    },
    {
     "data": {
      "image/png": "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",
      "text/plain": [
       "<Figure size 640x480 with 1 Axes>"
      ]
     },
     "metadata": {},
     "output_type": "display_data"
    }
   ],
   "source": [
    "plt.hist(dataNormed[0], density = True,bins=40)"
   ]
  },
  {
   "cell_type": "markdown",
   "metadata": {
    "tags": []
   },
   "source": [
    "# Test de fit sur une loi Beta"
   ]
  },
  {
   "cell_type": "code",
<<<<<<< HEAD
   "execution_count": 144,
=======
   "execution_count": 210,
>>>>>>> origin/main
   "metadata": {
    "tags": []
   },
   "outputs": [
    {
     "data": {
      "text/plain": [
<<<<<<< HEAD
       "2.7252862075152477"
      ]
     },
     "execution_count": 144,
=======
       "(1.9895584883043513, 8.691934325506143, 0, 1)"
      ]
     },
     "execution_count": 210,
>>>>>>> origin/main
     "metadata": {},
     "output_type": "execute_result"
    }
   ],
   "source": [
    "mod = sc.stats.beta.fit(dataNormed[0],floc=0,fscale=1)\n",
    "mod"
   ]
  },
  {
   "cell_type": "code",
<<<<<<< HEAD
   "execution_count": 150,
=======
   "execution_count": 211,
>>>>>>> origin/main
   "metadata": {
    "tags": []
   },
   "outputs": [
    {
     "data": {
      "text/plain": [
<<<<<<< HEAD
       "[<matplotlib.lines.Line2D at 0x2311548a810>]"
      ]
     },
     "execution_count": 150,
=======
       "[<matplotlib.lines.Line2D at 0x25c6306ecd0>]"
      ]
     },
     "execution_count": 211,
>>>>>>> origin/main
     "metadata": {},
     "output_type": "execute_result"
    },
    {
     "data": {
      "image/png": "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",
      "text/plain": [
       "<Figure size 640x480 with 1 Axes>"
      ]
     },
     "metadata": {},
     "output_type": "display_data"
    }
   ],
   "source": [
    "plt.hist(dataNormed[0], density = True,bins=40)\n",
    "X = np.linspace(0,1,100)\n",
    "plt.plot(X, sc.stats.beta.pdf(X, mod[0], mod[1], loc = mod[2], scale = mod[3]))"
   ]
  },
  {
   "cell_type": "markdown",
   "metadata": {
    "tags": []
   },
   "source": [
    "# Exemple de Découpage train / test"
   ]
  },
  {
   "cell_type": "markdown",
   "metadata": {},
   "source": [
    "En apprentissage statistique, classiquement un prédicteur est ajusté sur une partie seulement des données et l'erreur de ce dernier est ensuite évaluée sur une autre partie des données disponibles. Ceci permet de ne pas utiliser les mêmes données pour ajuster et évaluer la qualité d'un prédicteur."
   ]
  },
  {
   "cell_type": "markdown",
   "metadata": {},
   "source": [
    "> En utilisant la fonction [`train_test_split`](http://scikit-learn.org/stable/modules/generated/sklearn.model_selection.train_test_split.html#sklearn.model_selection.train_test_split) de la librairie [`sklearn.model_selection`](http://scikit-learn.org/stable/modules/classes.html#module-sklearn.model_selection), on sélectionne aléatoirement 60% des observations pour l'échantillon d'apprentissage et on garde le reste pour l'échantillon de test. "
   ]
  },
  {
   "cell_type": "code",
<<<<<<< HEAD
   "execution_count": 28,
=======
   "execution_count": 260,
>>>>>>> origin/main
   "metadata": {
    "tags": []
   },
   "outputs": [],
   "source": [
    "from sklearn import model_selection\n",
    "import random\n",
    "from datetime import datetime\n",
    "\n",
    "XTrain,XTest,YTrain, YTest = model_selection.train_test_split(dataNormed, labels, test_size=0.3, train_size=0.7, random_state=random.seed(datetime.now().timestamp()), shuffle=True, stratify=None)"
   ]
  },
  {
   "cell_type": "markdown",
   "metadata": {},
   "source": [
    "# Fit de toutes les observations de Xtrain"
   ]
  },
  {
   "cell_type": "code",
<<<<<<< HEAD
   "execution_count": 29,
=======
   "execution_count": 261,
>>>>>>> origin/main
   "metadata": {
    "tags": []
   },
   "outputs": [],
   "source": [
    "nTrain = XTrain.size\n",
    "modTrain = np.zeros((nTrain,2))\n",
    "for k in range(nTrain):\n",
    "    mod= sc.stats.beta.fit(dataNormed[k],floc=0,fscale=1)\n",
    "    modTrain[k,0] = mod[0]\n",
    "    modTrain[k,1] = mod[1]\n",
    "    \n",
    "nTest = XTest.size\n",
    "modTest = np.zeros((nTest,2))\n",
    "for k in range(nTest):\n",
    "    mod= sc.stats.beta.fit(dataNormed[k],floc=0,fscale=1)\n",
    "    modTest[k,0] = mod[0]\n",
    "    modTest[k,1] = mod[1]"
   ]
  },
  {
<<<<<<< HEAD
   "cell_type": "code",
   "execution_count": null,
   "metadata": {},
   "outputs": [],
   "source": []
  },
  {
   "cell_type": "code",
   "execution_count": null,
   "metadata": {},
   "outputs": [],
   "source": []
  },
  {
   "cell_type": "code",
   "execution_count": null,
   "metadata": {},
   "outputs": [],
   "source": []
  },
  {
   "cell_type": "markdown",
   "metadata": {},
   "source": [
    "Random forest"
=======
   "cell_type": "markdown",
   "metadata": {},
   "source": [
    "# Méthode des k plus proches voisins"
>>>>>>> origin/main
   ]
  },
  {
   "cell_type": "code",
<<<<<<< HEAD
   "execution_count": 102,
   "metadata": {
    "tags": []
   },
   "outputs": [],
   "source": [
    "from sklearn.ensemble import AdaBoostClassifier, RandomForestClassifier\n",
    "from sklearn.tree import DecisionTreeClassifier\n"
   ]
  },
  {
   "cell_type": "code",
   "execution_count": 123,
=======
   "execution_count": 262,
>>>>>>> origin/main
   "metadata": {
    "tags": []
   },
   "outputs": [
    {
     "data": {
      "text/plain": [
<<<<<<< HEAD
       "0.5344827586206896"
      ]
     },
     "execution_count": 123,
     "metadata": {},
     "output_type": "execute_result"
    }
   ],
   "source": [
    "RFC = RandomForestClassifier(\n",
    "    max_depth=5, \n",
    "    n_estimators=10, \n",
    "    max_features=\"log2\", \n",
    "    random_state=0\n",
    "    )\n",
    "\n",
    "RFC.fit(modTrain, YTrain)\n",
    "np.mean(RFC.predict(modTest)==YTest)"
=======
       "[<matplotlib.lines.Line2D at 0x25cc8e0d450>]"
      ]
     },
     "execution_count": 262,
     "metadata": {},
     "output_type": "execute_result"
    },
    {
     "data": {
      "image/png": "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",
      "text/plain": [
       "<Figure size 640x480 with 1 Axes>"
      ]
     },
     "metadata": {},
     "output_type": "display_data"
    }
   ],
   "source": [
    "n =10\n",
    "results = np.zeros(n)\n",
    "for k in range(2,n+2):\n",
    "    modKNN = KNeighborsClassifier(n_neighbors=k).fit(modTrain,YTrain)\n",
    "\n",
    "    results[k-2] = np.mean(modKNN.predict(modTest)==YTest)\n",
    "plt.plot(range(2,n+2),results)"
>>>>>>> origin/main
   ]
  },
  {
   "cell_type": "code",
<<<<<<< HEAD
   "execution_count": 114,
=======
   "execution_count": 271,
>>>>>>> origin/main
   "metadata": {
    "tags": []
   },
   "outputs": [
    {
     "data": {
      "text/plain": [
<<<<<<< HEAD
       "0.0"
      ]
     },
     "execution_count": 114,
=======
       "0.5448275862068964"
      ]
     },
     "execution_count": 271,
>>>>>>> origin/main
     "metadata": {},
     "output_type": "execute_result"
    }
   ],
   "source": [
<<<<<<< HEAD
    "0.5344827586206896-0.5344827586206896"
   ]
  },
  {
   "cell_type": "code",
   "execution_count": 135,
   "metadata": {
    "tags": []
   },
   "outputs": [
    {
     "data": {
      "text/plain": [
       "0.5862068965517241"
      ]
     },
     "execution_count": 135,
     "metadata": {},
     "output_type": "execute_result"
    }
   ],
   "source": [
    "ABC = AdaBoostClassifier(\n",
    "    algorithm=\"SAMME.R\",\n",
    "    n_estimators=60,\n",
    "    learning_rate=1,\n",
    "    random_state=0\n",
    ")\n",
    "\n",
    "ABC.fit(modTrain, YTrain)\n",
    "np.mean(ABC.predict(modTest)==YTest)"
    "def meanBestResult(nbtest,n=8):\n",
    "    bestresults = np.zeros(nbtest)\n",
    "    for i in range(nbtest):\n",
    "        XTrain,XTest,YTrain, YTest = model_selection.train_test_split(dataNormed, labels, test_size=0.4, train_size=0.6, random_state=random.seed(datetime.now().timestamp()), shuffle=True, stratify=None)\n",
    "        nTrain = XTrain.size\n",
    "        modTrain = np.zeros((nTrain,2))\n",
    "        for k in range(nTrain):\n",
    "            mod= sc.stats.beta.fit(dataNormed[k],floc=0,fscale=1)\n",
    "            modTrain[k,0] = mod[0]\n",
    "            modTrain[k,1] = mod[1]\n",
    "        \n",
    "        nTest = XTest.size\n",
    "        modTest = np.zeros((nTest,2))\n",
    "        for k in range(nTest):\n",
    "            mod= sc.stats.beta.fit(dataNormed[k],floc=0,fscale=1)\n",
    "            modTest[k,0] = mod[0]\n",
    "            modTest[k,1] = mod[1]\n",
    "            \n",
    "        results = np.zeros(n)\n",
    "        for k in range(2,n+2):\n",
    "            modKNN = KNeighborsClassifier(n_neighbors=k).fit(modTrain,YTrain)\n",
    "            results[k-2] = np.mean(modKNN.predict(modTest)==YTest)\n",
    "        bestresults[i] = np.max(results)\n",
    "    return np.mean(bestresults)\n",
    "\n",
    "meanBestResult(10)"
   ]
  }
 ],
 "metadata": {
  "anaconda-cloud": {},
  "kernelspec": {
   "display_name": "Python 3 (ipykernel)",
   "language": "python",
   "name": "python3"
  },
  "language_info": {
   "codemirror_mode": {
    "name": "ipython",
    "version": 3
   },
   "file_extension": ".py",
   "mimetype": "text/x-python",
   "name": "python",
   "nbconvert_exporter": "python",
   "pygments_lexer": "ipython3",
   "version": "3.11.5"
  }
 },
 "nbformat": 4,
 "nbformat_minor": 4
}
