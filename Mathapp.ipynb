{
 "cells": [
  {
   "cell_type": "markdown",
   "metadata": {},
   "source": [
    "# Projet Mathapp"
   ]
  },
  {
   "cell_type": "markdown",
   "metadata": {},
   "source": [
    "Pour ce projet, nous aurons besoin des modules Python ci-dessous, il vous faut donc évidemment exécuter cette première cellule."
   ]
  },
  {
   "cell_type": "code",
   "execution_count": 1,
   "metadata": {
    "tags": []
   },
   "outputs": [],
   "source": [
    "%matplotlib inline\n",
    "import pandas as pd\n",
    "import numpy as np\n",
    "import matplotlib.pyplot as plt\n",
    "import statistics as stat\n",
    "import sys"
   ]
  },
  {
   "cell_type": "code",
   "execution_count": 2,
   "metadata": {
    "tags": []
   },
   "outputs": [
    {
     "name": "stdout",
     "output_type": "stream",
     "text": [
      "WARNING:tensorflow:From C:\\Users\\dfrau\\anaconda3\\Lib\\site-packages\\keras\\src\\losses.py:2976: The name tf.losses.sparse_softmax_cross_entropy is deprecated. Please use tf.compat.v1.losses.sparse_softmax_cross_entropy instead.\n",
      "\n"
     ]
    },
    {
     "name": "stderr",
     "output_type": "stream",
     "text": [
      "INFO: Using numpy backend\n"
     ]
    }
   ],
   "source": [
    "import sklearn\n",
    "from sklearn.neighbors import KNeighborsClassifier\n",
    "import scipy as sc\n",
    "\n",
    "import tensorflow as tf\n",
    "\n",
    "from tensorflow import keras\n",
    "from tensorflow.keras import layers\n",
    "\n",
    "import geomstats as gs\n",
    "import geomstats.visualization as visualization\n",
    "from geomstats.geometry.hypersphere import Hypersphere\n",
    "from geomstats.geometry.special_orthogonal import SpecialOrthogonal"
   ]
  },
  {
   "cell_type": "markdown",
   "metadata": {},
   "source": [
    "# Importation des données"
   ]
  },
  {
   "cell_type": "markdown",
   "metadata": {},
   "source": [
    "Nous allons importer toutes les données qui vont nous être utiles, même celles qui ne seront pas utiles avant la fin\n"
   ]
  },
  {
   "cell_type": "code",
   "execution_count": 3,
   "metadata": {
    "tags": []
   },
   "outputs": [],
   "source": [
    "dataPath = \"cortical_thickness.npy\"\n",
    "labelsPath = \"labels.npy\""
   ]
  },
  {
   "cell_type": "code",
   "execution_count": 4,
   "metadata": {
    "tags": []
   },
   "outputs": [],
   "source": [
    "data  =   np.load(dataPath,allow_pickle=True)"
   ]
  },
  {
   "cell_type": "code",
   "execution_count": 5,
   "metadata": {
    "tags": []
   },
   "outputs": [],
   "source": [
    "labels  =   np.load(labelsPath,allow_pickle=True)"
   ]
  },
  {
   "cell_type": "code",
   "execution_count": 6,
   "metadata": {
    "tags": []
   },
   "outputs": [
    {
     "data": {
      "text/plain": [
       "array([array([[4.85491085],\n",
       "              [5.74003458],\n",
       "              [6.68786335],\n",
       "              ...,\n",
       "              [1.23504281],\n",
       "              [1.2750001 ],\n",
       "              [1.11842108]]), array([[5.64812231],\n",
       "                                     [5.64812231],\n",
       "                                     [6.54074097],\n",
       "                                     ...,\n",
       "                                     [1.23626375],\n",
       "                                     [1.43533242],\n",
       "                                     [1.30319166]]),\n",
       "       array([[10.88043499],\n",
       "              [11.8590641 ],\n",
       "              [10.90960217],\n",
       "              ...,\n",
       "              [ 1.        ],\n",
       "              [ 1.0518868 ],\n",
       "              [ 1.20212793]]), array([[4.46120691],\n",
       "                                      [5.47523165],\n",
       "                                      [6.51008129],\n",
       "                                      ...,\n",
       "                                      [1.18652761],\n",
       "                                      [1.16525435],\n",
       "                                      [1.16525435]]),\n",
       "       array([[2.756567  ],\n",
       "              [4.629529  ],\n",
       "              [6.        ],\n",
       "              ...,\n",
       "              [2.0795455 ],\n",
       "              [2.60725331],\n",
       "              [2.47938156]])], dtype=object)"
      ]
     },
     "execution_count": 6,
     "metadata": {},
     "output_type": "execute_result"
    }
   ],
   "source": [
    "data[:5]"
   ]
  },
  {
   "cell_type": "code",
   "execution_count": 7,
   "metadata": {
    "tags": []
   },
   "outputs": [
    {
     "data": {
      "text/plain": [
       "array([1., 0., 0., 0., 1.])"
      ]
     },
     "execution_count": 7,
     "metadata": {},
     "output_type": "execute_result"
    }
   ],
   "source": [
    "labels[:5]"
   ]
  },
  {
   "cell_type": "markdown",
   "metadata": {},
   "source": [
    "# Visualisation et normalisation des données"
   ]
  },
  {
   "cell_type": "code",
   "execution_count": 8,
   "metadata": {
    "tags": []
   },
   "outputs": [
    {
     "data": {
      "text/plain": [
       "(array([0.05028722, 0.09890038, 0.14685706, 0.25856558, 0.38230759,\n",
       "        0.31389465, 0.312969  , 0.24147056, 0.17539473, 0.16573774,\n",
       "        0.1068111 , 0.08692599, 0.07537831, 0.0497292 , 0.04457575,\n",
       "        0.03138027, 0.02400131, 0.02067947, 0.01357624, 0.01007714,\n",
       "        0.00980798, 0.00626949, 0.00568521, 0.00443788, 0.00384704,\n",
       "        0.00391269, 0.0031249 , 0.00266535, 0.00248154, 0.00177909,\n",
       "        0.00190382, 0.00134581, 0.00150993, 0.00143115, 0.00137207,\n",
       "        0.00141146, 0.00144428, 0.00126703, 0.00096504, 0.00130642]),\n",
       " array([3.13460827e-04, 3.75198074e-01, 7.50082687e-01, 1.12496730e+00,\n",
       "        1.49985191e+00, 1.87473653e+00, 2.24962114e+00, 2.62450575e+00,\n",
       "        2.99939036e+00, 3.37427498e+00, 3.74915959e+00, 4.12404420e+00,\n",
       "        4.49892882e+00, 4.87381343e+00, 5.24869804e+00, 5.62358265e+00,\n",
       "        5.99846727e+00, 6.37335188e+00, 6.74823649e+00, 7.12312111e+00,\n",
       "        7.49800572e+00, 7.87289033e+00, 8.24777494e+00, 8.62265956e+00,\n",
       "        8.99754417e+00, 9.37242878e+00, 9.74731340e+00, 1.01221980e+01,\n",
       "        1.04970826e+01, 1.08719672e+01, 1.12468518e+01, 1.16217365e+01,\n",
       "        1.19966211e+01, 1.23715057e+01, 1.27463903e+01, 1.31212749e+01,\n",
       "        1.34961595e+01, 1.38710441e+01, 1.42459287e+01, 1.46208134e+01,\n",
       "        1.49956980e+01]),\n",
       " <BarContainer object of 40 artists>)"
      ]
     },
     "execution_count": 8,
     "metadata": {},
     "output_type": "execute_result"
    },
    {
     "data": {
      "image/png": "[encoded data removed]",
      "text/plain": [
       "<Figure size 640x480 with 1 Axes>"
      ]
     },
     "metadata": {},
     "output_type": "display_data"
    }
   ],
   "source": [
    "plt.hist(data[0], density = True,bins=40)"
   ]
  },
  {
   "cell_type": "code",
   "execution_count": 9,
   "metadata": {
    "tags": []
   },
   "outputs": [],
   "source": [
    "def normalised(vect):\n",
    "    normed=np.zeros(vect.size,dtype=object)\n",
    "    max = np.zeros(vect.size)\n",
    "    K = vect.size\n",
    "    for k in range(K):\n",
    "        max[k] = np.max(data[k]) \n",
    "    \n",
    "    max = np.max(max) + 10**(-10)\n",
    "    for k in range(K):\n",
    "        normed[k] = vect[k] / max\n",
    "    return(normed)\n",
    "\n",
    "dataNormed = normalised(data)"
   ]
  },
  {
   "cell_type": "code",
   "execution_count": 10,
   "metadata": {
    "tags": []
   },
   "outputs": [
    {
     "data": {
      "text/plain": [
       "(array([0.75430626, 1.4835018 , 2.20284999, 3.8784734 , 5.73459854,\n",
       "        4.70840722, 4.69452247, 3.62204866, 2.63091387, 2.4860595 ,\n",
       "        1.60216224, 1.30388631, 1.1306716 , 0.74593602, 0.6686344 ,\n",
       "        0.47070286, 0.36001876, 0.31019122, 0.20364299, 0.15115667,\n",
       "        0.14711926, 0.0940421 , 0.08527797, 0.06656802, 0.05770541,\n",
       "        0.05869015, 0.04687334, 0.0399802 , 0.03722295, 0.02668629,\n",
       "        0.02855729, 0.02018705, 0.02264888, 0.0214672 , 0.02058094,\n",
       "        0.02117178, 0.02166415, 0.01900537, 0.01447559, 0.01959621]),\n",
       " array([2.08974443e-05, 2.50132717e-02, 5.00056460e-02, 7.49980202e-02,\n",
       "        9.99903945e-02, 1.24982769e-01, 1.49975143e-01, 1.74967517e-01,\n",
       "        1.99959892e-01, 2.24952266e-01, 2.49944640e-01, 2.74937014e-01,\n",
       "        2.99929389e-01, 3.24921763e-01, 3.49914137e-01, 3.74906511e-01,\n",
       "        3.99898886e-01, 4.24891260e-01, 4.49883634e-01, 4.74876008e-01,\n",
       "        4.99868383e-01, 5.24860757e-01, 5.49853131e-01, 5.74845505e-01,\n",
       "        5.99837880e-01, 6.24830254e-01, 6.49822628e-01, 6.74815002e-01,\n",
       "        6.99807377e-01, 7.24799751e-01, 7.49792125e-01, 7.74784500e-01,\n",
       "        7.99776874e-01, 8.24769248e-01, 8.49761622e-01, 8.74753997e-01,\n",
       "        8.99746371e-01, 9.24738745e-01, 9.49731119e-01, 9.74723494e-01,\n",
       "        9.99715868e-01]),\n",
       " <BarContainer object of 40 artists>)"
      ]
     },
     "execution_count": 10,
     "metadata": {},
     "output_type": "execute_result"
    },
    {
     "data": {
      "image/png": "[encoded data removed]",
      "text/plain": [
       "<Figure size 640x480 with 1 Axes>"
      ]
     },
     "metadata": {},
     "output_type": "display_data"
    }
   ],
   "source": [
    "plt.hist(dataNormed[0], density = True,bins=40)"
   ]
  },
  {
   "cell_type": "markdown",
   "metadata": {
    "tags": []
   },
   "source": [
    "# Test de fit sur une loi Beta"
   ]
  },
  {
   "cell_type": "code",
   "execution_count": 11,
   "metadata": {
    "tags": []
   },
   "outputs": [
    {
     "data": {
      "text/plain": [
       "(1.9895584883043513, 8.691934325506143, 0, 1)"
      ]
     },
     "execution_count": 11,
     "metadata": {},
     "output_type": "execute_result"
    }
   ],
   "source": [
    "mod = sc.stats.beta.fit(dataNormed[0],floc=0,fscale=1)\n",
    "mod"
   ]
  },
  {
   "cell_type": "code",
   "execution_count": 12,
   "metadata": {
    "tags": []
   },
   "outputs": [
    {
     "data": {
      "text/plain": [
       "[<matplotlib.lines.Line2D at 0x2d90002c190>]"
      ]
     },
     "execution_count": 12,
     "metadata": {},
     "output_type": "execute_result"
    },
    {
     "data": {
      "image/png": "[encoded data removed]",
      "text/plain": [
       "<Figure size 640x480 with 1 Axes>"
      ]
     },
     "metadata": {},
     "output_type": "display_data"
    }
   ],
   "source": [
    "plt.hist(dataNormed[0], density = True,bins=40)\n",
    "X = np.linspace(0,1,100)\n",
    "plt.plot(X, sc.stats.beta.pdf(X, mod[0], mod[1], loc = mod[2], scale = mod[3]))"
   ]
  },
  {
   "cell_type": "markdown",
   "metadata": {
    "tags": []
   },
   "source": [
    "# Exemple de Découpage train / test"
   ]
  },
  {
   "cell_type": "markdown",
   "metadata": {},
   "source": [
    "En apprentissage statistique, classiquement un prédicteur est ajusté sur une partie seulement des données et l'erreur de ce dernier est ensuite évaluée sur une autre partie des données disponibles. Ceci permet de ne pas utiliser les mêmes données pour ajuster et évaluer la qualité d'un prédicteur."
   ]
  },
  {
   "cell_type": "markdown",
   "metadata": {},
   "source": [
    "> En utilisant la fonction [`train_test_split`](http://scikit-learn.org/stable/modules/generated/sklearn.model_selection.train_test_split.html#sklearn.model_selection.train_test_split) de la librairie [`sklearn.model_selection`](http://scikit-learn.org/stable/modules/classes.html#module-sklearn.model_selection), on sélectionne aléatoirement 60% des observations pour l'échantillon d'apprentissage et on garde le reste pour l'échantillon de test. "
   ]
  },
  {
   "cell_type": "code",
   "execution_count": 13,
   "metadata": {
    "tags": []
   },
   "outputs": [],
   "source": [
    "from sklearn import model_selection\n",
    "import random\n",
    "from datetime import datetime\n",
    "\n",
    "XTrain,XTest,YTrain, YTest = model_selection.train_test_split(dataNormed, labels, test_size=0.3, train_size=0.7, random_state=random.seed(datetime.now().timestamp()), shuffle=True, stratify=None)"
   ]
  },
  {
   "cell_type": "markdown",
   "metadata": {},
   "source": [
    "# Fit de toutes les observations de Xtrain"
   ]
  },
  {
   "cell_type": "code",
   "execution_count": 14,
   "metadata": {
    "tags": []
   },
   "outputs": [],
   "source": [
    "nTrain = XTrain.size\n",
    "modTrain = np.zeros((nTrain,2))\n",
    "for k in range(nTrain):\n",
    "    mod= sc.stats.beta.fit(dataNormed[k],floc=0,fscale=1)\n",
    "    modTrain[k,0] = mod[0]\n",
    "    modTrain[k,1] = mod[1]\n",
    "    \n",
    "nTest = XTest.size\n",
    "modTest = np.zeros((nTest,2))\n",
    "for k in range(nTest):\n",
    "    mod= sc.stats.beta.fit(dataNormed[k],floc=0,fscale=1)\n",
    "    modTest[k,0] = mod[0]\n",
    "    modTest[k,1] = mod[1]"
   ]
  },
  {
   "cell_type": "markdown",
   "metadata": {},
   "source": [
    "# Méthode des k plus proches voisins"
   ]
  },
  {
   "cell_type": "code",
   "execution_count": 15,
   "metadata": {
    "tags": []
   },
   "outputs": [
    {
     "data": {
      "text/plain": [
       "[<matplotlib.lines.Line2D at 0x2d900a9b6d0>]"
      ]
     },
     "execution_count": 15,
     "metadata": {},
     "output_type": "execute_result"
    },
    {
     "data": {
      "image/png": "[encoded data removed]",
      "text/plain": [
       "<Figure size 640x480 with 1 Axes>"
      ]
     },
     "metadata": {},
     "output_type": "display_data"
    }
   ],
   "source": [
    "n =10\n",
    "results = np.zeros(n)\n",
    "for k in range(2,n+2):\n",
    "    modKNN = KNeighborsClassifier(n_neighbors=k).fit(modTrain,YTrain)\n",
    "\n",
    "    results[k-2] = np.mean(modKNN.predict(modTest)==YTest)\n",
    "plt.plot(range(2,n+2),results)"
   ]
  },
  {
   "cell_type": "code",
   "execution_count": 16,
   "metadata": {
    "tags": []
   },
   "outputs": [
    {
     "data": {
      "text/plain": [
       "0.5948275862068966"
      ]
     },
     "execution_count": 16,
     "metadata": {},
     "output_type": "execute_result"
    }
   ],
   "source": [
    "def meanBestResult(nbtest,n=8):\n",
    "    bestresults = np.zeros(nbtest)\n",
    "    for i in range(nbtest):\n",
    "        XTrain,XTest,YTrain, YTest = model_selection.train_test_split(dataNormed, labels, test_size=0.4, train_size=0.6, random_state=random.seed(datetime.now().timestamp()), shuffle=True, stratify=None)\n",
    "        nTrain = XTrain.size\n",
    "        modTrain = np.zeros((nTrain,2))\n",
    "        for k in range(nTrain):\n",
    "            mod= sc.stats.beta.fit(dataNormed[k],floc=0,fscale=1)\n",
    "            modTrain[k,0] = mod[0]\n",
    "            modTrain[k,1] = mod[1]\n",
    "        \n",
    "        nTest = XTest.size\n",
    "        modTest = np.zeros((nTest,2))\n",
    "        for k in range(nTest):\n",
    "            mod= sc.stats.beta.fit(dataNormed[k],floc=0,fscale=1)\n",
    "            modTest[k,0] = mod[0]\n",
    "            modTest[k,1] = mod[1]\n",
    "            \n",
    "        results = np.zeros(n)\n",
    "        for k in range(2,n+2):\n",
    "            modKNN = KNeighborsClassifier(n_neighbors=k).fit(modTrain,YTrain)\n",
    "            results[k-2] = np.mean(modKNN.predict(modTest)==YTest)\n",
    "        bestresults[i] = np.max(results)\n",
    "    return np.mean(bestresults)\n",
    "\n",
    "meanBestResult(10)"
   ]
  },
  {
   "cell_type": "markdown",
   "metadata": {},
   "source": [
    "# Kmeans : approche Riemanniane"
   ]
  },
  {
   "cell_type": "code",
   "execution_count": 17,
   "metadata": {
    "tags": []
   },
   "outputs": [
    {
     "name": "stderr",
     "output_type": "stream",
     "text": [
      "WARNING: Maximum number of iterations 100 reached. The mean may be inaccurate\n",
      "WARNING: Maximum number of iterations 100 reached. The mean may be inaccurate\n",
      "WARNING: Maximum number of iterations 100 reached. The mean may be inaccurate\n",
      "WARNING: Maximum number of iterations 100 reached. The mean may be inaccurate\n",
      "WARNING: Maximum number of iterations 100 reached. The mean may be inaccurate\n",
      "WARNING: Maximum number of iterations 100 reached. The mean may be inaccurate\n",
      "WARNING: Maximum number of iterations 100 reached. The mean may be inaccurate\n",
      "WARNING: Maximum number of iterations 100 reached. The mean may be inaccurate\n",
      "WARNING: Maximum number of iterations 100 reached. The mean may be inaccurate\n",
      "WARNING: Maximum number of iterations 100 reached. The mean may be inaccurate\n"
     ]
    },
    {
     "data": {
      "text/plain": [
       "0.5116279069767442"
      ]
     },
     "execution_count": 17,
     "metadata": {},
     "output_type": "execute_result"
    }
   ],
   "source": [
    "from geomstats.learning.kmeans import RiemannianKMeans\n",
    "from geomstats.geometry.hypersphere import Hypersphere\n",
    "\n",
    "manifold = Hypersphere(dim=2)\n",
    "\n",
    "kmeans = RiemannianKMeans(manifold, 2, tol=1e-3)\n",
    "kmeans.fit(modTrain)\n",
    "\n",
    "np.mean(kmeans.predict(modTest)==YTest)"
   ]
  },
  {
   "cell_type": "markdown",
   "metadata": {},
   "source": [
    "# Random Forest"
   ]
  },
  {
   "cell_type": "code",
   "execution_count": 18,
   "metadata": {},
   "outputs": [],
   "source": [
    "from sklearn.ensemble import AdaBoostClassifier, RandomForestClassifier\n",
    "from sklearn.tree import DecisionTreeClassifier"
   ]
  },
  {
   "cell_type": "code",
   "execution_count": 19,
   "metadata": {},
   "outputs": [
    {
     "data": {
      "text/plain": [
       "0.4883720930232558"
      ]
     },
     "execution_count": 19,
     "metadata": {},
     "output_type": "execute_result"
    }
   ],
   "source": [
    "RFC = RandomForestClassifier(\n",
    "    max_depth=5, \n",
    "    n_estimators=10, \n",
    "    max_features=\"log2\", \n",
    "    random_state=0\n",
    "    )\n",
    "\n",
    "RFC.fit(modTrain, YTrain)\n",
    "np.mean(RFC.predict(modTest)==YTest)"
   ]
  },
  {
   "cell_type": "code",
   "execution_count": 20,
   "metadata": {
    "tags": []
   },
   "outputs": [
    {
     "data": {
      "text/plain": [
       "0.46511627906976744"
      ]
     },
     "execution_count": 20,
     "metadata": {},
     "output_type": "execute_result"
    }
   ],
   "source": [
    "ABC = AdaBoostClassifier(\n",
    "    algorithm=\"SAMME.R\",\n",
    "    n_estimators=60,\n",
    "    learning_rate=1,\n",
    "    random_state=0\n",
    ")\n",
    "\n",
    "ABC.fit(modTrain, YTrain)\n",
    "np.mean(ABC.predict(modTest)==YTest)"
   ]
  },
  {
   "cell_type": "markdown",
   "metadata": {},
   "source": [
    "# Classification avec l'histogramme"
   ]
  },
  {
   "cell_type": "code",
   "execution_count": 21,
   "metadata": {
    "tags": []
   },
   "outputs": [],
   "source": [
    "nTrain = XTrain.size\n",
    "modTrain = np.zeros((nTrain,10))\n",
    "\n",
    "for k in range(nTrain):\n",
    "    modTrain[k] = np.histogram(XTrain[k], bins=10)[0]\n",
    "\n",
    "nTest = XTest.size\n",
    "modTest = np.zeros((nTest,10))\n",
    "for k in range(nTest):\n",
    "    modTest[k] = np.histogram(XTest[k], bins=10)[0]"
   ]
  },
  {
   "cell_type": "code",
   "execution_count": 22,
   "metadata": {
    "tags": []
   },
   "outputs": [
    {
     "data": {
      "text/plain": [
       "0.8517241379310345"
      ]
     },
     "execution_count": 22,
     "metadata": {},
     "output_type": "execute_result"
    }
   ],
   "source": [
    "def meanBestResult(nbtest,n=8):\n",
    "    bestresults = np.zeros(nbtest)\n",
    "    for i in range(nbtest):\n",
    "        XTrain,XTest,YTrain, YTest = model_selection.train_test_split(dataNormed, labels, test_size=0.4, train_size=0.6, random_state=random.seed(datetime.now().timestamp()), shuffle=True, stratify=None)\n",
    "        nbins = 10\n",
    "        nTrain = XTrain.size\n",
    "        modTrain = np.zeros((nTrain,nbins))\n",
    "\n",
    "        for k in range(nTrain):\n",
    "            modTrain[k] = np.histogram(XTrain[k], bins=nbins)[0]\n",
    "\n",
    "        nTest = XTest.size\n",
    "        modTest = np.zeros((nTest,nbins))\n",
    "        for k in range(nTest):\n",
    "            modTest[k] = np.histogram(XTest[k], bins=nbins)[0]\n",
    "\n",
    "        results = np.zeros(n)\n",
    "        for k in range(2,n+2):\n",
    "            modKNN = KNeighborsClassifier(n_neighbors=k).fit(modTrain,YTrain)\n",
    "            results[k-2] = np.mean(modKNN.predict(modTest)==YTest)\n",
    "        bestresults[i] = np.max(results)\n",
    "    return np.mean(bestresults)\n",
    "\n",
    "meanBestResult(10)"
   ]
  }
 ],
 "metadata": {
  "anaconda-cloud": {},
  "kernelspec": {
   "display_name": "Python 3 (ipykernel)",
   "language": "python",
   "name": "python3"
  },
  "language_info": {
   "codemirror_mode": {
    "name": "ipython",
    "version": 3
   },
   "file_extension": ".py",
   "mimetype": "text/x-python",
   "name": "python",
   "nbconvert_exporter": "python",
   "pygments_lexer": "ipython3",
   "version": "3.11.5"
  }
 },
 "nbformat": 4,
 "nbformat_minor": 4
}
